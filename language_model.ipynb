{
  "nbformat": 4,
  "nbformat_minor": 0,
  "metadata": {
    "colab": {
      "name": "language_model.ipynb",
      "provenance": [],
      "collapsed_sections": []
    },
    "kernelspec": {
      "name": "python3",
      "display_name": "Python 3"
    }
  },
  "cells": [
    {
      "cell_type": "markdown",
      "metadata": {
        "id": "BmhPrKaPeaGe",
        "colab_type": "text"
      },
      "source": [
        "N gram Model for Text Generation..!!\n",
        "\n",
        "AVICII SONG CORPUS"
      ]
    },
    {
      "cell_type": "code",
      "metadata": {
        "id": "J39dY1cVa5vW",
        "colab_type": "code",
        "colab": {
          "base_uri": "https://localhost:8080/",
          "height": 68
        },
        "outputId": "2ffbb8a2-e01c-413c-bf44-66cb5492a4a3"
      },
      "source": [
        "import pandas as pd\n",
        "import numpy as np\n",
        "from nltk.tokenize import sent_tokenize, word_tokenize\n",
        "from nltk import bigrams, trigrams\n",
        "from nltk.tokenize.treebank import TreebankWordDetokenizer\n",
        "from collections import Counter, defaultdict\n",
        "import nltk\n",
        "import random\n",
        "nltk.download('punkt')"
      ],
      "execution_count": 27,
      "outputs": [
        {
          "output_type": "stream",
          "text": [
            "[nltk_data] Downloading package punkt to /root/nltk_data...\n",
            "[nltk_data]   Package punkt is already up-to-date!\n"
          ],
          "name": "stdout"
        },
        {
          "output_type": "execute_result",
          "data": {
            "text/plain": [
              "True"
            ]
          },
          "metadata": {
            "tags": []
          },
          "execution_count": 27
        }
      ]
    },
    {
      "cell_type": "code",
      "metadata": {
        "id": "sXMf9sD0bABu",
        "colab_type": "code",
        "colab": {}
      },
      "source": [
        "with open('/content/drive/My Drive/AVICII_language_Model/avicii_lyrics.txt') as f:\n",
        "    contents = f.read()"
      ],
      "execution_count": 28,
      "outputs": []
    },
    {
      "cell_type": "code",
      "metadata": {
        "id": "1ahIw-BOdBFy",
        "colab_type": "code",
        "colab": {}
      },
      "source": [
        "content_updated = contents.replace('\\n',' ')\n",
        "content_updated = content_updated.replace(\"'\",'')\n",
        "content_updated = content_updated.replace(')','')\n",
        "content_updated = content_updated.replace('(','')\n",
        "content_updated = content_updated.replace('[','')\n",
        "content_updated = content_updated.replace(']','')"
      ],
      "execution_count": 29,
      "outputs": []
    },
    {
      "cell_type": "code",
      "metadata": {
        "id": "27dCCsYRigPd",
        "colab_type": "code",
        "colab": {}
      },
      "source": [
        "avicii_corpus = word_tokenize(content_updated)"
      ],
      "execution_count": 30,
      "outputs": []
    },
    {
      "cell_type": "code",
      "metadata": {
        "id": "MA-ZbkcVojaO",
        "colab_type": "code",
        "colab": {}
      },
      "source": [
        "model = defaultdict(lambda: defaultdict(lambda: 0))"
      ],
      "execution_count": 31,
      "outputs": []
    },
    {
      "cell_type": "code",
      "metadata": {
        "id": "Hv1mD0BQnXio",
        "colab_type": "code",
        "colab": {}
      },
      "source": [
        "#creating Trigrams\n",
        "for w1, w2, w3 in trigrams(avicii_corpus, pad_right=True, pad_left=True):\n",
        "  model[(w1, w2)][w3] += 1"
      ],
      "execution_count": 32,
      "outputs": []
    },
    {
      "cell_type": "code",
      "metadata": {
        "id": "5B_BJpvnopdI",
        "colab_type": "code",
        "colab": {}
      },
      "source": [
        "#counting of \n",
        "for w1_w2 in model:\n",
        "    total_count = float(sum(model[w1_w2].values()))\n",
        "    for w3 in model[w1_w2]:\n",
        "        model[w1_w2][w3] /= total_count"
      ],
      "execution_count": 33,
      "outputs": []
    },
    {
      "cell_type": "code",
      "metadata": {
        "id": "hHU5nFz1pYq2",
        "colab_type": "code",
        "colab": {
          "base_uri": "https://localhost:8080/",
          "height": 119
        },
        "outputId": "3fc46e72-5d39-4182-bc09-0960a441d762"
      },
      "source": [
        "dict(model['I','am'])"
      ],
      "execution_count": 34,
      "outputs": [
        {
          "output_type": "execute_result",
          "data": {
            "text/plain": [
              "{'Earl': 0.09090909090909091,\n",
              " 'a': 0.45454545454545453,\n",
              " 'for': 0.09090909090909091,\n",
              " 'that': 0.09090909090909091,\n",
              " 'the': 0.18181818181818182,\n",
              " 'today': 0.09090909090909091}"
            ]
          },
          "metadata": {
            "tags": []
          },
          "execution_count": 34
        }
      ]
    },
    {
      "cell_type": "code",
      "metadata": {
        "id": "-pDa3plupj7X",
        "colab_type": "code",
        "colab": {
          "base_uri": "https://localhost:8080/",
          "height": 969
        },
        "outputId": "e2812ab4-c1ab-4112-ee09-bf270204e89d"
      },
      "source": [
        "text = [\"the\",\"nights\"]\n",
        "sentence_finished = False\n",
        " \n",
        "while not sentence_finished:\n",
        "  r = random.random()\n",
        "  accumulator = .0\n",
        "  for word in model[tuple(text[-2:])].keys():\n",
        "      accumulator += model[tuple(text[-2:])][word]\n",
        "      # select words that are above the probability threshold\n",
        "      if accumulator >= r:\n",
        "          text.append(word)\n",
        "          break\n",
        "  if text[-2:] == [None, None]:\n",
        "      sentence_finished = True\n",
        "\n",
        "count=1\n",
        "for t in text:\n",
        "  if count < 500:\n",
        "    if count % 9 == 0:\n",
        "      print(t)\n",
        "      count = count + 1\n",
        "    else:\n",
        "      print(t,end=\" \")\n",
        "      count = count + 1"
      ],
      "execution_count": 35,
      "outputs": [
        {
          "output_type": "stream",
          "text": [
            "the nights that never was kept , one too\n",
            "many People try to fill my shoes But ,\n",
            "see ya , I wouldnt do Hey , brother\n",
            ", theres an endless road to hell without no\n",
            "soul Just when you were with me Im the\n",
            "one that you need , what Id said ,\n",
            "`` You are a friend of mine Destruction aint\n",
            "a thing , baby said you want me to\n",
            "leave you alone Now dont you tell me are\n",
            "you to touch me touch me touch me touch\n",
            "me Touch me I want you to touch me\n",
            "use me like you wan na do I want\n",
            "you to Said you want me to be God\n",
            "knows I try We stumble and we were right\n",
            "She knows how Im feeling good Fish in the\n",
            "dark But I dont ever tell the truth Take\n",
            "my love for granted Yeah , I wan na\n",
            "love again But I know , and I I\n",
            "wont change I might hate myself tomorrow But Im\n",
            "on my luck The beat should get me out\n",
            "of it With my head or my heart God\n",
            "only knows what Ive been waiting for Neither of\n",
            "us knows whats in store You just roll your\n",
            "window down and place your bets These are the\n",
            "nights that never die '' My father told me\n",
            ", youll break the law if you come with\n",
            "me , S.O.S. ? Help me put my mind\n",
            "to rest Weight is on me Sometimes Im not\n",
            "alone , I ’ ll show you love ,\n",
            "you ’ re gon na love ya , like\n",
            "no one could Im gon na love ya Im\n",
            "gon na follow me I know , and I\n",
            "still feel broken Down upon my sleeve My head\n",
            "down low , I think of whenever the chance\n",
            "to travel the world alight Were gon na love\n",
            "ya Im gon na love ya , I still\n",
            "believe in Strange how the money was spent My\n",
            "mama told me , She says theres always someone\n",
            "better waiting for love To come around Maybe love\n",
            "will come around if you come to raise me\n",
            "up from the deal you made You walked right\n",
            "into his plan Run as fast as you think\n",
            "you can Back from wherever you came around And\n",
            "Im in pieces , pick me up When Im\n",
            "wiser and Im just down on bended knee Lock\n",
            "up my eyes Lifes a game made for everyone\n",
            "And love is the prize So wake me up\n",
            "When Im wiser and Im down along the road\n",
            "Better , better , feeling great Dark liquor ,\n",
            "no ! Now who do you blame ? Should\n",
            "have listened to what Id said What Id said\n",
            ", `` Boy you aint got no sense If\n",
            "we put it all It all just fades away\n",
            "It all just fades away Feel like I ’\n",
            "d like to know Holla , holla , got\n",
            "ta let go Cause "
          ],
          "name": "stdout"
        }
      ]
    }
  ]
}